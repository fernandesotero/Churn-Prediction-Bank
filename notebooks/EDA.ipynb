{
 "cells": [
  {
   "cell_type": "code",
   "execution_count": null,
   "id": "2490d172",
   "metadata": {},
   "outputs": [],
   "source": []
  },
  {
   "cell_type": "markdown",
   "id": "a22205b3",
   "metadata": {},
   "source": [
    "Importing the libraries"
   ]
  },
  {
   "cell_type": "code",
   "execution_count": 6,
   "id": "2cf735d8",
   "metadata": {},
   "outputs": [
    {
     "data": {
      "text/html": [
       "<svg  width=\"330\" height=\"55\"><rect x=\"0\" y=\"0\" width=\"55\" height=\"55\" style=\"fill:#023047;stroke-width:2;stroke:rgb(255,255,255)\"/><rect x=\"55\" y=\"0\" width=\"55\" height=\"55\" style=\"fill:#e85d04;stroke-width:2;stroke:rgb(255,255,255)\"/><rect x=\"110\" y=\"0\" width=\"55\" height=\"55\" style=\"fill:#0077b6;stroke-width:2;stroke:rgb(255,255,255)\"/><rect x=\"165\" y=\"0\" width=\"55\" height=\"55\" style=\"fill:#ff8200;stroke-width:2;stroke:rgb(255,255,255)\"/><rect x=\"220\" y=\"0\" width=\"55\" height=\"55\" style=\"fill:#0096c7;stroke-width:2;stroke:rgb(255,255,255)\"/><rect x=\"275\" y=\"0\" width=\"55\" height=\"55\" style=\"fill:#ff9c33;stroke-width:2;stroke:rgb(255,255,255)\"/></svg>"
      ],
      "text/plain": [
       "[(0.00784313725490196, 0.18823529411764706, 0.2784313725490196),\n",
       " (0.9098039215686274, 0.36470588235294116, 0.01568627450980392),\n",
       " (0.0, 0.4666666666666667, 0.7137254901960784),\n",
       " (1.0, 0.5098039215686274, 0.0),\n",
       " (0.0, 0.5882352941176471, 0.7803921568627451),\n",
       " (1.0, 0.611764705882353, 0.2)]"
      ]
     },
     "execution_count": 6,
     "metadata": {},
     "output_type": "execute_result"
    }
   ],
   "source": [
    "# Data manipulation and visualisation.\n",
    "import pandas as pd\n",
    "import numpy as np\n",
    "import matplotlib.pyplot as plt\n",
    "import matplotlib as mpl\n",
    "import seaborn as sns\n",
    "\n",
    "# Split the data.\n",
    "from sklearn.model_selection import train_test_split\n",
    "\n",
    "# Utils\n",
    "# from src.eda_utils import * TODO - Ver error\n",
    "# from src.snake import camel_to_snake TODO - Ver error\n",
    "\n",
    "# Filter warnings.\n",
    "import warnings\n",
    "warnings.filterwarnings('ignore')\n",
    "\n",
    "### Visualization Settings\n",
    "%matplotlib inline\n",
    "\n",
    "mpl.style.use('ggplot')\n",
    "\n",
    "mpl.rcParams['axes.facecolor']      = 'white'\n",
    "mpl.rcParams['axes.linewidth']      = 1\n",
    "mpl.rcParams['xtick.color']         = 'black'\n",
    "mpl.rcParams['ytick.color']         = 'black'\n",
    "mpl.rcParams['grid.color']          = 'lightgray'\n",
    "mpl.rcParams['figure.dpi']          = 50\n",
    "mpl.rcParams['axes.grid']           = True\n",
    "mpl.rcParams['font.size']           = 12\n",
    "\n",
    "# Palette Setting\n",
    "color_palette = ['#023047', '#e85d04', '#0077b6', '#ff8200', '#0096c7', '#ff9c33']\n",
    "# Setting as the palette\n",
    "sns.set_palette(sns.color_palette(color_palette))\n",
    "# Display\n",
    "sns.color_palette(color_palette)"
   ]
  },
  {
   "cell_type": "markdown",
   "id": "71814788",
   "metadata": {},
   "source": [
    "# Understanding the data\n",
    "\n",
    "- The dataset was collected from kaggle: https://www.kaggle.com/datasets/shubhammeshram579/bank-customer-churn-prediction\n",
    "- It contains bank customers data, with demographic, financial and product information. It is already labeled, with churners identified as 1 and non-churners identified as 0 in the attrition flag variable.\n",
    "- I will initially drop two variables because I don't need them, and it doesn't seem to make a difference of a machine learning model."
   ]
  },
  {
   "cell_type": "code",
   "execution_count": null,
   "id": "414fba08",
   "metadata": {},
   "outputs": [],
   "source": [
    "# data_path = 'C:\\Projetos\\Churn-Prediction-Bank\\input\\BankChurners.csv' # TODO - Make the path better\n",
    "data_path = '..\\input\\BankChurners.csv' # New path, perfect!!\n",
    "df = pd.read_csv(data_path)\n",
    "\n",
    "# Features that must be dropped.\n",
    "df.drop(columns=['RowNumber', 'Surname'], inplace=True)"
   ]
  },
  {
   "cell_type": "code",
   "execution_count": 8,
   "id": "2798091c",
   "metadata": {},
   "outputs": [
    {
     "data": {
      "application/vnd.microsoft.datawrangler.viewer.v0+json": {
       "columns": [
        {
         "name": "index",
         "rawType": "int64",
         "type": "integer"
        },
        {
         "name": "CustomerId",
         "rawType": "int64",
         "type": "integer"
        },
        {
         "name": "CreditScore",
         "rawType": "int64",
         "type": "integer"
        },
        {
         "name": "Geography",
         "rawType": "object",
         "type": "string"
        },
        {
         "name": "Gender",
         "rawType": "object",
         "type": "string"
        },
        {
         "name": "Age",
         "rawType": "float64",
         "type": "float"
        },
        {
         "name": "Tenure",
         "rawType": "int64",
         "type": "integer"
        },
        {
         "name": "Balance",
         "rawType": "float64",
         "type": "float"
        },
        {
         "name": "NumOfProducts",
         "rawType": "int64",
         "type": "integer"
        },
        {
         "name": "HasCrCard",
         "rawType": "float64",
         "type": "float"
        },
        {
         "name": "IsActiveMember",
         "rawType": "float64",
         "type": "float"
        },
        {
         "name": "EstimatedSalary",
         "rawType": "float64",
         "type": "float"
        },
        {
         "name": "Exited",
         "rawType": "int64",
         "type": "integer"
        }
       ],
       "ref": "5c6ed9b3-9d1d-4fd2-a772-cebbef6038ca",
       "rows": [
        [
         "0",
         "15634602",
         "619",
         "France",
         "Female",
         "42.0",
         "2",
         "0.0",
         "1",
         "1.0",
         "1.0",
         "101348.88",
         "1"
        ],
        [
         "1",
         "15647311",
         "608",
         "Spain",
         "Female",
         "41.0",
         "1",
         "83807.86",
         "1",
         "0.0",
         "1.0",
         "112542.58",
         "0"
        ],
        [
         "2",
         "15619304",
         "502",
         "France",
         "Female",
         "42.0",
         "8",
         "159660.8",
         "3",
         "1.0",
         "0.0",
         "113931.57",
         "1"
        ],
        [
         "3",
         "15701354",
         "699",
         "France",
         "Female",
         "39.0",
         "1",
         "0.0",
         "2",
         "0.0",
         "0.0",
         "93826.63",
         "0"
        ],
        [
         "4",
         "15737888",
         "850",
         "Spain",
         "Female",
         "43.0",
         "2",
         "125510.82",
         "1",
         null,
         "1.0",
         "79084.1",
         "0"
        ]
       ],
       "shape": {
        "columns": 12,
        "rows": 5
       }
      },
      "text/html": [
       "<div>\n",
       "<style scoped>\n",
       "    .dataframe tbody tr th:only-of-type {\n",
       "        vertical-align: middle;\n",
       "    }\n",
       "\n",
       "    .dataframe tbody tr th {\n",
       "        vertical-align: top;\n",
       "    }\n",
       "\n",
       "    .dataframe thead th {\n",
       "        text-align: right;\n",
       "    }\n",
       "</style>\n",
       "<table border=\"1\" class=\"dataframe\">\n",
       "  <thead>\n",
       "    <tr style=\"text-align: right;\">\n",
       "      <th></th>\n",
       "      <th>CustomerId</th>\n",
       "      <th>CreditScore</th>\n",
       "      <th>Geography</th>\n",
       "      <th>Gender</th>\n",
       "      <th>Age</th>\n",
       "      <th>Tenure</th>\n",
       "      <th>Balance</th>\n",
       "      <th>NumOfProducts</th>\n",
       "      <th>HasCrCard</th>\n",
       "      <th>IsActiveMember</th>\n",
       "      <th>EstimatedSalary</th>\n",
       "      <th>Exited</th>\n",
       "    </tr>\n",
       "  </thead>\n",
       "  <tbody>\n",
       "    <tr>\n",
       "      <th>0</th>\n",
       "      <td>15634602</td>\n",
       "      <td>619</td>\n",
       "      <td>France</td>\n",
       "      <td>Female</td>\n",
       "      <td>42.0</td>\n",
       "      <td>2</td>\n",
       "      <td>0.00</td>\n",
       "      <td>1</td>\n",
       "      <td>1.0</td>\n",
       "      <td>1.0</td>\n",
       "      <td>101348.88</td>\n",
       "      <td>1</td>\n",
       "    </tr>\n",
       "    <tr>\n",
       "      <th>1</th>\n",
       "      <td>15647311</td>\n",
       "      <td>608</td>\n",
       "      <td>Spain</td>\n",
       "      <td>Female</td>\n",
       "      <td>41.0</td>\n",
       "      <td>1</td>\n",
       "      <td>83807.86</td>\n",
       "      <td>1</td>\n",
       "      <td>0.0</td>\n",
       "      <td>1.0</td>\n",
       "      <td>112542.58</td>\n",
       "      <td>0</td>\n",
       "    </tr>\n",
       "    <tr>\n",
       "      <th>2</th>\n",
       "      <td>15619304</td>\n",
       "      <td>502</td>\n",
       "      <td>France</td>\n",
       "      <td>Female</td>\n",
       "      <td>42.0</td>\n",
       "      <td>8</td>\n",
       "      <td>159660.80</td>\n",
       "      <td>3</td>\n",
       "      <td>1.0</td>\n",
       "      <td>0.0</td>\n",
       "      <td>113931.57</td>\n",
       "      <td>1</td>\n",
       "    </tr>\n",
       "    <tr>\n",
       "      <th>3</th>\n",
       "      <td>15701354</td>\n",
       "      <td>699</td>\n",
       "      <td>France</td>\n",
       "      <td>Female</td>\n",
       "      <td>39.0</td>\n",
       "      <td>1</td>\n",
       "      <td>0.00</td>\n",
       "      <td>2</td>\n",
       "      <td>0.0</td>\n",
       "      <td>0.0</td>\n",
       "      <td>93826.63</td>\n",
       "      <td>0</td>\n",
       "    </tr>\n",
       "    <tr>\n",
       "      <th>4</th>\n",
       "      <td>15737888</td>\n",
       "      <td>850</td>\n",
       "      <td>Spain</td>\n",
       "      <td>Female</td>\n",
       "      <td>43.0</td>\n",
       "      <td>2</td>\n",
       "      <td>125510.82</td>\n",
       "      <td>1</td>\n",
       "      <td>NaN</td>\n",
       "      <td>1.0</td>\n",
       "      <td>79084.10</td>\n",
       "      <td>0</td>\n",
       "    </tr>\n",
       "  </tbody>\n",
       "</table>\n",
       "</div>"
      ],
      "text/plain": [
       "   CustomerId  CreditScore Geography  Gender   Age  Tenure    Balance  \\\n",
       "0    15634602          619    France  Female  42.0       2       0.00   \n",
       "1    15647311          608     Spain  Female  41.0       1   83807.86   \n",
       "2    15619304          502    France  Female  42.0       8  159660.80   \n",
       "3    15701354          699    France  Female  39.0       1       0.00   \n",
       "4    15737888          850     Spain  Female  43.0       2  125510.82   \n",
       "\n",
       "   NumOfProducts  HasCrCard  IsActiveMember  EstimatedSalary  Exited  \n",
       "0              1        1.0             1.0        101348.88       1  \n",
       "1              1        0.0             1.0        112542.58       0  \n",
       "2              3        1.0             0.0        113931.57       1  \n",
       "3              2        0.0             0.0         93826.63       0  \n",
       "4              1        NaN             1.0         79084.10       0  "
      ]
     },
     "execution_count": 8,
     "metadata": {},
     "output_type": "execute_result"
    }
   ],
   "source": [
    "df.head()"
   ]
  },
  {
   "cell_type": "markdown",
   "id": "67d7f0e7",
   "metadata": {},
   "source": [
    "### Data dictionay\n",
    "\n",
    "<b>1. CustomerId:</b> Client number. Unique identifier for the customer holding the account. Categorical nominal.<br>\n",
    "<b>2. CreditScore:</b> Credit score of the customer. Ranges from 0 to 850. Numerical continouos.<br>\n",
    "<b>3. Geography:</b> Country where the customer resides (e.g., France, Spain, Germany). Categorical nominal.<br>\n",
    "<b>4. Gender:</b> Demographic variable - Male / Female. Categorical nominal.<br>\n",
    "<b>5. Age:</b> Demographic variable - Customer`s Age in Years. Numerical discrete.<br>\n",
    "<b>6. Tenure:</b> Number of years the customer has been with the bank. Numerical discrete.<br>\n",
    "<b>7. Balance:</b> Account balance of the customer. Numerical continuous.<br>\n",
    "<b>8. NumOfProducts:</b> Number of bank products the customer is using. Numerical discrete.<br>\n",
    "<b>9. HasCrCard:</b> Indicates whether the customer has a credit card (1 = Yes, 0 = No). Categorical ordinal.<br>\n",
    "<b>10. IsActiveMember:</b> Indicates whether the customer is an active member (1 = Yes, 0 = No). Categorical ordinal.<br>\n",
    "<b>11. EstimatedSalary:</b> Estimated annual salary of the customer. Numerical continuous.<br>\n",
    "<b>12. Exited:</b> Indicates whether the customer has exited (closed the account). Target variable. Binary (1 = Yes, 0 = No).<br>\n"
   ]
  },
  {
   "cell_type": "markdown",
   "id": "2c6359cf",
   "metadata": {},
   "source": [
    "\n",
    "Looking at dataset general information."
   ]
  },
  {
   "cell_type": "code",
   "execution_count": 4,
   "id": "01507be8",
   "metadata": {},
   "outputs": [
    {
     "name": "stdout",
     "output_type": "stream",
     "text": [
      "<class 'pandas.core.frame.DataFrame'>\n",
      "RangeIndex: 10002 entries, 0 to 10001\n",
      "Data columns (total 12 columns):\n",
      " #   Column           Non-Null Count  Dtype  \n",
      "---  ------           --------------  -----  \n",
      " 0   CustomerId       10002 non-null  int64  \n",
      " 1   CreditScore      10002 non-null  int64  \n",
      " 2   Geography        10001 non-null  object \n",
      " 3   Gender           10002 non-null  object \n",
      " 4   Age              10001 non-null  float64\n",
      " 5   Tenure           10002 non-null  int64  \n",
      " 6   Balance          10002 non-null  float64\n",
      " 7   NumOfProducts    10002 non-null  int64  \n",
      " 8   HasCrCard        10001 non-null  float64\n",
      " 9   IsActiveMember   10001 non-null  float64\n",
      " 10  EstimatedSalary  10002 non-null  float64\n",
      " 11  Exited           10002 non-null  int64  \n",
      "dtypes: float64(5), int64(5), object(2)\n",
      "memory usage: 937.8+ KB\n"
     ]
    }
   ],
   "source": [
    "df.info()"
   ]
  },
  {
   "cell_type": "code",
   "execution_count": 5,
   "id": "a85b20f6",
   "metadata": {},
   "outputs": [
    {
     "name": "stdout",
     "output_type": "stream",
     "text": [
      "The dataset has 10002 rows and 12 columns\n"
     ]
    }
   ],
   "source": [
    "print(f'The dataset has {df.shape[0]} rows and {df.shape[1]} columns')"
   ]
  },
  {
   "cell_type": "markdown",
   "id": "af932c83",
   "metadata": {},
   "source": [
    "Looking at some descriptive statistics."
   ]
  },
  {
   "cell_type": "code",
   "execution_count": 6,
   "id": "85bbe4cc",
   "metadata": {},
   "outputs": [
    {
     "data": {
      "application/vnd.microsoft.datawrangler.viewer.v0+json": {
       "columns": [
        {
         "name": "index",
         "rawType": "object",
         "type": "string"
        },
        {
         "name": "count",
         "rawType": "float64",
         "type": "float"
        },
        {
         "name": "mean",
         "rawType": "float64",
         "type": "float"
        },
        {
         "name": "std",
         "rawType": "float64",
         "type": "float"
        },
        {
         "name": "min",
         "rawType": "float64",
         "type": "float"
        },
        {
         "name": "25%",
         "rawType": "float64",
         "type": "float"
        },
        {
         "name": "50%",
         "rawType": "float64",
         "type": "float"
        },
        {
         "name": "75%",
         "rawType": "float64",
         "type": "float"
        },
        {
         "name": "max",
         "rawType": "float64",
         "type": "float"
        }
       ],
       "ref": "d514eb12-61a2-4d2c-8edc-98dc79bc40b6",
       "rows": [
        [
         "CustomerId",
         "10002.0",
         "15690933.450109977",
         "71931.76934468147",
         "15565701.0",
         "15628524.75",
         "15690732.0",
         "15753225.5",
         "15815690.0"
        ],
        [
         "CreditScore",
         "10002.0",
         "650.5550889822035",
         "96.66161527623206",
         "350.0",
         "584.0",
         "652.0",
         "718.0",
         "850.0"
        ],
        [
         "Age",
         "10001.0",
         "38.92231076892311",
         "10.487199862204067",
         "18.0",
         "32.0",
         "37.0",
         "44.0",
         "92.0"
        ],
        [
         "Tenure",
         "10002.0",
         "5.0124975004999",
         "2.891972930457804",
         "0.0",
         "3.0",
         "5.0",
         "7.0",
         "10.0"
        ],
        [
         "Balance",
         "10002.0",
         "76491.11287542492",
         "62393.47414428079",
         "0.0",
         "0.0",
         "97198.54000000001",
         "127647.84",
         "250898.09"
        ],
        [
         "NumOfProducts",
         "10002.0",
         "1.5301939612077584",
         "0.5816393314936084",
         "1.0",
         "1.0",
         "1.0",
         "2.0",
         "4.0"
        ],
        [
         "HasCrCard",
         "10001.0",
         "0.7055294470552945",
         "0.45582718453135745",
         "0.0",
         "0.0",
         "1.0",
         "1.0",
         "1.0"
        ],
        [
         "IsActiveMember",
         "10001.0",
         "0.5149485051494851",
         "0.49980148043799877",
         "0.0",
         "0.0",
         "1.0",
         "1.0",
         "1.0"
        ],
        [
         "EstimatedSalary",
         "10002.0",
         "100083.33114477104",
         "57508.117802140616",
         "11.58",
         "50983.75",
         "100185.23999999999",
         "149383.6525",
         "199992.48"
        ],
        [
         "Exited",
         "10002.0",
         "0.20375924815036991",
         "0.4028121639958361",
         "0.0",
         "0.0",
         "0.0",
         "0.0",
         "1.0"
        ]
       ],
       "shape": {
        "columns": 8,
        "rows": 10
       }
      },
      "text/html": [
       "<div>\n",
       "<style scoped>\n",
       "    .dataframe tbody tr th:only-of-type {\n",
       "        vertical-align: middle;\n",
       "    }\n",
       "\n",
       "    .dataframe tbody tr th {\n",
       "        vertical-align: top;\n",
       "    }\n",
       "\n",
       "    .dataframe thead th {\n",
       "        text-align: right;\n",
       "    }\n",
       "</style>\n",
       "<table border=\"1\" class=\"dataframe\">\n",
       "  <thead>\n",
       "    <tr style=\"text-align: right;\">\n",
       "      <th></th>\n",
       "      <th>count</th>\n",
       "      <th>mean</th>\n",
       "      <th>std</th>\n",
       "      <th>min</th>\n",
       "      <th>25%</th>\n",
       "      <th>50%</th>\n",
       "      <th>75%</th>\n",
       "      <th>max</th>\n",
       "    </tr>\n",
       "  </thead>\n",
       "  <tbody>\n",
       "    <tr>\n",
       "      <th>CustomerId</th>\n",
       "      <td>10002.0</td>\n",
       "      <td>1.569093e+07</td>\n",
       "      <td>71931.769345</td>\n",
       "      <td>15565701.00</td>\n",
       "      <td>15628524.75</td>\n",
       "      <td>15690732.00</td>\n",
       "      <td>1.575323e+07</td>\n",
       "      <td>15815690.00</td>\n",
       "    </tr>\n",
       "    <tr>\n",
       "      <th>CreditScore</th>\n",
       "      <td>10002.0</td>\n",
       "      <td>6.505551e+02</td>\n",
       "      <td>96.661615</td>\n",
       "      <td>350.00</td>\n",
       "      <td>584.00</td>\n",
       "      <td>652.00</td>\n",
       "      <td>7.180000e+02</td>\n",
       "      <td>850.00</td>\n",
       "    </tr>\n",
       "    <tr>\n",
       "      <th>Age</th>\n",
       "      <td>10001.0</td>\n",
       "      <td>3.892231e+01</td>\n",
       "      <td>10.487200</td>\n",
       "      <td>18.00</td>\n",
       "      <td>32.00</td>\n",
       "      <td>37.00</td>\n",
       "      <td>4.400000e+01</td>\n",
       "      <td>92.00</td>\n",
       "    </tr>\n",
       "    <tr>\n",
       "      <th>Tenure</th>\n",
       "      <td>10002.0</td>\n",
       "      <td>5.012498e+00</td>\n",
       "      <td>2.891973</td>\n",
       "      <td>0.00</td>\n",
       "      <td>3.00</td>\n",
       "      <td>5.00</td>\n",
       "      <td>7.000000e+00</td>\n",
       "      <td>10.00</td>\n",
       "    </tr>\n",
       "    <tr>\n",
       "      <th>Balance</th>\n",
       "      <td>10002.0</td>\n",
       "      <td>7.649111e+04</td>\n",
       "      <td>62393.474144</td>\n",
       "      <td>0.00</td>\n",
       "      <td>0.00</td>\n",
       "      <td>97198.54</td>\n",
       "      <td>1.276478e+05</td>\n",
       "      <td>250898.09</td>\n",
       "    </tr>\n",
       "    <tr>\n",
       "      <th>NumOfProducts</th>\n",
       "      <td>10002.0</td>\n",
       "      <td>1.530194e+00</td>\n",
       "      <td>0.581639</td>\n",
       "      <td>1.00</td>\n",
       "      <td>1.00</td>\n",
       "      <td>1.00</td>\n",
       "      <td>2.000000e+00</td>\n",
       "      <td>4.00</td>\n",
       "    </tr>\n",
       "    <tr>\n",
       "      <th>HasCrCard</th>\n",
       "      <td>10001.0</td>\n",
       "      <td>7.055294e-01</td>\n",
       "      <td>0.455827</td>\n",
       "      <td>0.00</td>\n",
       "      <td>0.00</td>\n",
       "      <td>1.00</td>\n",
       "      <td>1.000000e+00</td>\n",
       "      <td>1.00</td>\n",
       "    </tr>\n",
       "    <tr>\n",
       "      <th>IsActiveMember</th>\n",
       "      <td>10001.0</td>\n",
       "      <td>5.149485e-01</td>\n",
       "      <td>0.499801</td>\n",
       "      <td>0.00</td>\n",
       "      <td>0.00</td>\n",
       "      <td>1.00</td>\n",
       "      <td>1.000000e+00</td>\n",
       "      <td>1.00</td>\n",
       "    </tr>\n",
       "    <tr>\n",
       "      <th>EstimatedSalary</th>\n",
       "      <td>10002.0</td>\n",
       "      <td>1.000833e+05</td>\n",
       "      <td>57508.117802</td>\n",
       "      <td>11.58</td>\n",
       "      <td>50983.75</td>\n",
       "      <td>100185.24</td>\n",
       "      <td>1.493837e+05</td>\n",
       "      <td>199992.48</td>\n",
       "    </tr>\n",
       "    <tr>\n",
       "      <th>Exited</th>\n",
       "      <td>10002.0</td>\n",
       "      <td>2.037592e-01</td>\n",
       "      <td>0.402812</td>\n",
       "      <td>0.00</td>\n",
       "      <td>0.00</td>\n",
       "      <td>0.00</td>\n",
       "      <td>0.000000e+00</td>\n",
       "      <td>1.00</td>\n",
       "    </tr>\n",
       "  </tbody>\n",
       "</table>\n",
       "</div>"
      ],
      "text/plain": [
       "                   count          mean           std          min  \\\n",
       "CustomerId       10002.0  1.569093e+07  71931.769345  15565701.00   \n",
       "CreditScore      10002.0  6.505551e+02     96.661615       350.00   \n",
       "Age              10001.0  3.892231e+01     10.487200        18.00   \n",
       "Tenure           10002.0  5.012498e+00      2.891973         0.00   \n",
       "Balance          10002.0  7.649111e+04  62393.474144         0.00   \n",
       "NumOfProducts    10002.0  1.530194e+00      0.581639         1.00   \n",
       "HasCrCard        10001.0  7.055294e-01      0.455827         0.00   \n",
       "IsActiveMember   10001.0  5.149485e-01      0.499801         0.00   \n",
       "EstimatedSalary  10002.0  1.000833e+05  57508.117802        11.58   \n",
       "Exited           10002.0  2.037592e-01      0.402812         0.00   \n",
       "\n",
       "                         25%          50%           75%          max  \n",
       "CustomerId       15628524.75  15690732.00  1.575323e+07  15815690.00  \n",
       "CreditScore           584.00       652.00  7.180000e+02       850.00  \n",
       "Age                    32.00        37.00  4.400000e+01        92.00  \n",
       "Tenure                  3.00         5.00  7.000000e+00        10.00  \n",
       "Balance                 0.00     97198.54  1.276478e+05    250898.09  \n",
       "NumOfProducts           1.00         1.00  2.000000e+00         4.00  \n",
       "HasCrCard               0.00         1.00  1.000000e+00         1.00  \n",
       "IsActiveMember          0.00         1.00  1.000000e+00         1.00  \n",
       "EstimatedSalary     50983.75    100185.24  1.493837e+05    199992.48  \n",
       "Exited                  0.00         0.00  0.000000e+00         1.00  "
      ]
     },
     "execution_count": 6,
     "metadata": {},
     "output_type": "execute_result"
    }
   ],
   "source": [
    "df.describe().T"
   ]
  },
  {
   "cell_type": "markdown",
   "id": "f666d4e9",
   "metadata": {},
   "source": [
    "Some insights:\n",
    "\n",
    "TODO"
   ]
  },
  {
   "cell_type": "markdown",
   "id": "389194d7",
   "metadata": {},
   "source": [
    "Looking at missing and duplicated values."
   ]
  },
  {
   "cell_type": "code",
   "execution_count": 7,
   "id": "f9d9ca45",
   "metadata": {},
   "outputs": [
    {
     "data": {
      "application/vnd.microsoft.datawrangler.viewer.v0+json": {
       "columns": [
        {
         "name": "index",
         "rawType": "object",
         "type": "string"
        },
        {
         "name": "0",
         "rawType": "int64",
         "type": "integer"
        }
       ],
       "ref": "bcb1b98a-7317-4634-bf04-f4291fabe35a",
       "rows": [
        [
         "CustomerId",
         "0"
        ],
        [
         "CreditScore",
         "0"
        ],
        [
         "Geography",
         "1"
        ],
        [
         "Gender",
         "0"
        ],
        [
         "Age",
         "1"
        ],
        [
         "Tenure",
         "0"
        ],
        [
         "Balance",
         "0"
        ],
        [
         "NumOfProducts",
         "0"
        ],
        [
         "HasCrCard",
         "1"
        ],
        [
         "IsActiveMember",
         "1"
        ],
        [
         "EstimatedSalary",
         "0"
        ],
        [
         "Exited",
         "0"
        ]
       ],
       "shape": {
        "columns": 1,
        "rows": 12
       }
      },
      "text/plain": [
       "CustomerId         0\n",
       "CreditScore        0\n",
       "Geography          1\n",
       "Gender             0\n",
       "Age                1\n",
       "Tenure             0\n",
       "Balance            0\n",
       "NumOfProducts      0\n",
       "HasCrCard          1\n",
       "IsActiveMember     1\n",
       "EstimatedSalary    0\n",
       "Exited             0\n",
       "dtype: int64"
      ]
     },
     "execution_count": 7,
     "metadata": {},
     "output_type": "execute_result"
    }
   ],
   "source": [
    "df.isna().sum()"
   ]
  },
  {
   "cell_type": "code",
   "execution_count": 8,
   "id": "243b7ad5",
   "metadata": {},
   "outputs": [
    {
     "data": {
      "text/plain": [
       "np.int64(2)"
      ]
     },
     "execution_count": 8,
     "metadata": {},
     "output_type": "execute_result"
    }
   ],
   "source": [
    "df.duplicated().sum()"
   ]
  },
  {
   "cell_type": "markdown",
   "id": "a65789cd",
   "metadata": {},
   "source": [
    "There are four missing values and two duplicated values."
   ]
  },
  {
   "cell_type": "markdown",
   "id": "0046cf55",
   "metadata": {},
   "source": [
    "Cleaning missing and duplicated values."
   ]
  },
  {
   "cell_type": "code",
   "execution_count": null,
   "id": "72d0e193",
   "metadata": {},
   "outputs": [],
   "source": [
    "df = df.dropna().drop_duplicates()"
   ]
  },
  {
   "cell_type": "markdown",
   "id": "06cb26b6",
   "metadata": {},
   "source": [
    "Looking at missing and duplicates values."
   ]
  },
  {
   "cell_type": "code",
   "execution_count": 49,
   "id": "f89828e7",
   "metadata": {},
   "outputs": [
    {
     "data": {
      "application/vnd.microsoft.datawrangler.viewer.v0+json": {
       "columns": [
        {
         "name": "index",
         "rawType": "object",
         "type": "string"
        },
        {
         "name": "0",
         "rawType": "int64",
         "type": "integer"
        }
       ],
       "ref": "2f7ce9d2-1f8d-40ab-bfc8-5c94caa58c39",
       "rows": [
        [
         "CustomerId",
         "0"
        ],
        [
         "CreditScore",
         "0"
        ],
        [
         "Geography",
         "0"
        ],
        [
         "Gender",
         "0"
        ],
        [
         "Age",
         "0"
        ],
        [
         "Tenure",
         "0"
        ],
        [
         "Balance",
         "0"
        ],
        [
         "NumOfProducts",
         "0"
        ],
        [
         "HasCrCard",
         "0"
        ],
        [
         "IsActiveMember",
         "0"
        ],
        [
         "EstimatedSalary",
         "0"
        ],
        [
         "Exited",
         "0"
        ]
       ],
       "shape": {
        "columns": 1,
        "rows": 12
       }
      },
      "text/plain": [
       "CustomerId         0\n",
       "CreditScore        0\n",
       "Geography          0\n",
       "Gender             0\n",
       "Age                0\n",
       "Tenure             0\n",
       "Balance            0\n",
       "NumOfProducts      0\n",
       "HasCrCard          0\n",
       "IsActiveMember     0\n",
       "EstimatedSalary    0\n",
       "Exited             0\n",
       "dtype: int64"
      ]
     },
     "execution_count": 49,
     "metadata": {},
     "output_type": "execute_result"
    }
   ],
   "source": [
    "df.isna().sum()"
   ]
  },
  {
   "cell_type": "code",
   "execution_count": null,
   "id": "38b068c4",
   "metadata": {},
   "outputs": [],
   "source": [
    "df.duplicated().sum()"
   ]
  },
  {
   "cell_type": "markdown",
   "id": "f9fb59b4",
   "metadata": {},
   "source": [
    "There are no missing or duplicated values."
   ]
  },
  {
   "cell_type": "markdown",
   "id": "a03cb62c",
   "metadata": {},
   "source": [
    "- I will drop the CustomerId variable becouse it has an unique value for each record, not being useful for the analysis.\n",
    "- I will rename the columns in a standard format in order to turn the data manipulation easier. Moreover, Exited will be renamed as churn_flag for interpretation purposes.\n",
    "- I will express Gender variable as binary. This will make EDA easier, like when looking at percentual values."
   ]
  },
  {
   "cell_type": "code",
   "execution_count": 9,
   "id": "7df21136",
   "metadata": {},
   "outputs": [],
   "source": [
    "df.drop(columns=['CustomerId'], inplace=True)"
   ]
  },
  {
   "cell_type": "code",
   "execution_count": null,
   "id": "9a90698f",
   "metadata": {},
   "outputs": [],
   "source": [
    "# df.columns = [x.lower() for x in df.columns] TODO - Ver erro"
   ]
  },
  {
   "cell_type": "code",
   "execution_count": null,
   "id": "f745a787",
   "metadata": {},
   "outputs": [],
   "source": [
    "# df.columns = [camel_to_snake(col) for col in df.columns] TODO - Ver erro"
   ]
  },
  {
   "cell_type": "code",
   "execution_count": null,
   "id": "549f1834",
   "metadata": {},
   "outputs": [],
   "source": [
    "df['Gender'] = df['Gender'].map({'Male': 1, 'Female': 0}) # TODO - Quando ajustar o import, Gender = gender"
   ]
  },
  {
   "cell_type": "code",
   "execution_count": 1,
   "id": "664d58c8",
   "metadata": {},
   "outputs": [
    {
     "ename": "NameError",
     "evalue": "name 'df' is not defined",
     "output_type": "error",
     "traceback": [
      "\u001b[31m---------------------------------------------------------------------------\u001b[39m",
      "\u001b[31mNameError\u001b[39m                                 Traceback (most recent call last)",
      "\u001b[36mCell\u001b[39m\u001b[36m \u001b[39m\u001b[32mIn[1]\u001b[39m\u001b[32m, line 1\u001b[39m\n\u001b[32m----> \u001b[39m\u001b[32m1\u001b[39m \u001b[43mdf\u001b[49m.rename(columns={\u001b[33m'\u001b[39m\u001b[33mExited\u001b[39m\u001b[33m'\u001b[39m: \u001b[33m'\u001b[39m\u001b[33mchurn_flag\u001b[39m\u001b[33m'\u001b[39m}, inplace=\u001b[38;5;28;01mTrue\u001b[39;00m)\n",
      "\u001b[31mNameError\u001b[39m: name 'df' is not defined"
     ]
    }
   ],
   "source": [
    "df.rename(columns={'Exited': 'churn_flag'}, inplace=True)"
   ]
  }
 ],
 "metadata": {
  "kernelspec": {
   "display_name": "Python 3",
   "language": "python",
   "name": "python3"
  },
  "language_info": {
   "codemirror_mode": {
    "name": "ipython",
    "version": 3
   },
   "file_extension": ".py",
   "mimetype": "text/x-python",
   "name": "python",
   "nbconvert_exporter": "python",
   "pygments_lexer": "ipython3",
   "version": "3.13.3"
  }
 },
 "nbformat": 4,
 "nbformat_minor": 5
}
